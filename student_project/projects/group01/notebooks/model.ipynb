{
  "cells": [
    {
      "cell_type": "markdown",
      "metadata": {
        "id": "RbXOhqmNM4J9"
      },
      "source": [
        "# Project Guideline\n",
        "\n",
        "Hi teman-teman! Silakan menggunakan template notebook ini untuk mengerjakan projectmu.\n",
        "\n",
        "<br>\n",
        "\n",
        "**Informasi tambahan,**\n",
        "1. Copy notebook ini untuk mulai mengerjakan Projectmu.\n",
        "2. Kamu bebas untuk menambahkan cell pada notebook."
      ]
    },
    {
      "cell_type": "markdown",
      "metadata": {
        "id": "yIwc7uVMNsgo"
      },
      "source": [
        "## Data Understanding\n",
        "\n",
        "Menjelajahi struktur dan karakteristik dari sebuah data."
      ]
    },
    {
      "cell_type": "markdown",
      "metadata": {
        "id": "O08pIuSQTWLl"
      },
      "source": [
        "Menulis kode untuk mengkoneksikan notebook ke Google Drive"
      ]
    },
    {
      "cell_type": "code",
      "execution_count": null,
      "metadata": {
        "id": "aAct0PnWM3zG"
      },
      "outputs": [],
      "source": [
        "# from google.colab import drive\n",
        "# # drive.mount('/content/drive')"
      ]
    },
    {
      "cell_type": "markdown",
      "metadata": {
        "id": "yeUKz9g2TW3r"
      },
      "source": [
        "Memasukkan library yang akan kamu gunakan"
      ]
    },
    {
      "cell_type": "code",
      "execution_count": 2,
      "metadata": {
        "id": "_6SC20s9SeK7"
      },
      "outputs": [],
      "source": [
        "import pandas as pd\n",
        "import matplotlib.pyplot as plt\n",
        "import seaborn as sns\n",
        "from sklearn.preprocessing import StandardScaler, LabelEncoder\n",
        "from sklearn.model_selection import train_test_split\n",
        "from sklearn.metrics import mean_squared_error, r2_score\n",
        "from sklearn.linear_model import LinearRegression"
      ]
    },
    {
      "cell_type": "markdown",
      "metadata": {
        "id": "X2Dqv6AQTZhB"
      },
      "source": [
        "Mengambil file .csv dari Google Drive kamu."
      ]
    },
    {
      "cell_type": "code",
      "execution_count": 3,
      "metadata": {
        "id": "MN3LxBEQTaBg"
      },
      "outputs": [],
      "source": [
        "# df = pd.read_csv('/content/drive/MyDrive/FIKTI/Notebook/Dataset/housing_data.csv')\n",
        "df = pd.read_csv('../dataset/housing_data.csv')"
      ]
    },
    {
      "cell_type": "code",
      "execution_count": 4,
      "metadata": {
        "id": "HK3CcQuYTaOW"
      },
      "outputs": [
        {
          "data": {
            "application/vnd.microsoft.datawrangler.viewer.v0+json": {
              "columns": [
                {
                  "name": "index",
                  "rawType": "int64",
                  "type": "integer"
                },
                {
                  "name": "price",
                  "rawType": "int64",
                  "type": "integer"
                },
                {
                  "name": "area",
                  "rawType": "int64",
                  "type": "integer"
                },
                {
                  "name": "bedrooms",
                  "rawType": "int64",
                  "type": "integer"
                },
                {
                  "name": "bathrooms",
                  "rawType": "int64",
                  "type": "integer"
                },
                {
                  "name": "stories",
                  "rawType": "int64",
                  "type": "integer"
                },
                {
                  "name": "mainroad",
                  "rawType": "object",
                  "type": "string"
                },
                {
                  "name": "guestroom",
                  "rawType": "object",
                  "type": "string"
                },
                {
                  "name": "basement",
                  "rawType": "object",
                  "type": "string"
                },
                {
                  "name": "hotwaterheating",
                  "rawType": "object",
                  "type": "string"
                },
                {
                  "name": "airconditioning",
                  "rawType": "object",
                  "type": "string"
                },
                {
                  "name": "parking",
                  "rawType": "int64",
                  "type": "integer"
                },
                {
                  "name": "prefarea",
                  "rawType": "object",
                  "type": "string"
                },
                {
                  "name": "furnishingstatus",
                  "rawType": "object",
                  "type": "string"
                }
              ],
              "ref": "37ed9848-7ee2-4f8f-8e88-43f5d36fd4f7",
              "rows": [
                [
                  "0",
                  "13300000",
                  "7420",
                  "4",
                  "2",
                  "3",
                  "yes",
                  "no",
                  "no",
                  "no",
                  "yes",
                  "2",
                  "yes",
                  "furnished"
                ],
                [
                  "1",
                  "12250000",
                  "8960",
                  "4",
                  "4",
                  "4",
                  "yes",
                  "no",
                  "no",
                  "no",
                  "yes",
                  "3",
                  "no",
                  "furnished"
                ],
                [
                  "2",
                  "12250000",
                  "9960",
                  "3",
                  "2",
                  "2",
                  "yes",
                  "no",
                  "yes",
                  "no",
                  "no",
                  "2",
                  "yes",
                  "semi-furnished"
                ],
                [
                  "3",
                  "12215000",
                  "7500",
                  "4",
                  "2",
                  "2",
                  "yes",
                  "no",
                  "yes",
                  "no",
                  "yes",
                  "3",
                  "yes",
                  "furnished"
                ],
                [
                  "4",
                  "11410000",
                  "7420",
                  "4",
                  "1",
                  "2",
                  "yes",
                  "yes",
                  "yes",
                  "no",
                  "yes",
                  "2",
                  "no",
                  "furnished"
                ]
              ],
              "shape": {
                "columns": 13,
                "rows": 5
              }
            },
            "text/html": [
              "<div>\n",
              "<style scoped>\n",
              "    .dataframe tbody tr th:only-of-type {\n",
              "        vertical-align: middle;\n",
              "    }\n",
              "\n",
              "    .dataframe tbody tr th {\n",
              "        vertical-align: top;\n",
              "    }\n",
              "\n",
              "    .dataframe thead th {\n",
              "        text-align: right;\n",
              "    }\n",
              "</style>\n",
              "<table border=\"1\" class=\"dataframe\">\n",
              "  <thead>\n",
              "    <tr style=\"text-align: right;\">\n",
              "      <th></th>\n",
              "      <th>price</th>\n",
              "      <th>area</th>\n",
              "      <th>bedrooms</th>\n",
              "      <th>bathrooms</th>\n",
              "      <th>stories</th>\n",
              "      <th>mainroad</th>\n",
              "      <th>guestroom</th>\n",
              "      <th>basement</th>\n",
              "      <th>hotwaterheating</th>\n",
              "      <th>airconditioning</th>\n",
              "      <th>parking</th>\n",
              "      <th>prefarea</th>\n",
              "      <th>furnishingstatus</th>\n",
              "    </tr>\n",
              "  </thead>\n",
              "  <tbody>\n",
              "    <tr>\n",
              "      <th>0</th>\n",
              "      <td>13300000</td>\n",
              "      <td>7420</td>\n",
              "      <td>4</td>\n",
              "      <td>2</td>\n",
              "      <td>3</td>\n",
              "      <td>yes</td>\n",
              "      <td>no</td>\n",
              "      <td>no</td>\n",
              "      <td>no</td>\n",
              "      <td>yes</td>\n",
              "      <td>2</td>\n",
              "      <td>yes</td>\n",
              "      <td>furnished</td>\n",
              "    </tr>\n",
              "    <tr>\n",
              "      <th>1</th>\n",
              "      <td>12250000</td>\n",
              "      <td>8960</td>\n",
              "      <td>4</td>\n",
              "      <td>4</td>\n",
              "      <td>4</td>\n",
              "      <td>yes</td>\n",
              "      <td>no</td>\n",
              "      <td>no</td>\n",
              "      <td>no</td>\n",
              "      <td>yes</td>\n",
              "      <td>3</td>\n",
              "      <td>no</td>\n",
              "      <td>furnished</td>\n",
              "    </tr>\n",
              "    <tr>\n",
              "      <th>2</th>\n",
              "      <td>12250000</td>\n",
              "      <td>9960</td>\n",
              "      <td>3</td>\n",
              "      <td>2</td>\n",
              "      <td>2</td>\n",
              "      <td>yes</td>\n",
              "      <td>no</td>\n",
              "      <td>yes</td>\n",
              "      <td>no</td>\n",
              "      <td>no</td>\n",
              "      <td>2</td>\n",
              "      <td>yes</td>\n",
              "      <td>semi-furnished</td>\n",
              "    </tr>\n",
              "    <tr>\n",
              "      <th>3</th>\n",
              "      <td>12215000</td>\n",
              "      <td>7500</td>\n",
              "      <td>4</td>\n",
              "      <td>2</td>\n",
              "      <td>2</td>\n",
              "      <td>yes</td>\n",
              "      <td>no</td>\n",
              "      <td>yes</td>\n",
              "      <td>no</td>\n",
              "      <td>yes</td>\n",
              "      <td>3</td>\n",
              "      <td>yes</td>\n",
              "      <td>furnished</td>\n",
              "    </tr>\n",
              "    <tr>\n",
              "      <th>4</th>\n",
              "      <td>11410000</td>\n",
              "      <td>7420</td>\n",
              "      <td>4</td>\n",
              "      <td>1</td>\n",
              "      <td>2</td>\n",
              "      <td>yes</td>\n",
              "      <td>yes</td>\n",
              "      <td>yes</td>\n",
              "      <td>no</td>\n",
              "      <td>yes</td>\n",
              "      <td>2</td>\n",
              "      <td>no</td>\n",
              "      <td>furnished</td>\n",
              "    </tr>\n",
              "  </tbody>\n",
              "</table>\n",
              "</div>"
            ],
            "text/plain": [
              "      price  area  bedrooms  bathrooms  stories mainroad guestroom basement  \\\n",
              "0  13300000  7420         4          2        3      yes        no       no   \n",
              "1  12250000  8960         4          4        4      yes        no       no   \n",
              "2  12250000  9960         3          2        2      yes        no      yes   \n",
              "3  12215000  7500         4          2        2      yes        no      yes   \n",
              "4  11410000  7420         4          1        2      yes       yes      yes   \n",
              "\n",
              "  hotwaterheating airconditioning  parking prefarea furnishingstatus  \n",
              "0              no             yes        2      yes        furnished  \n",
              "1              no             yes        3       no        furnished  \n",
              "2              no              no        2      yes   semi-furnished  \n",
              "3              no             yes        3      yes        furnished  \n",
              "4              no             yes        2       no        furnished  "
            ]
          },
          "execution_count": 4,
          "metadata": {},
          "output_type": "execute_result"
        }
      ],
      "source": [
        "df.head()"
      ]
    },
    {
      "cell_type": "markdown",
      "metadata": {
        "id": "WMezuFqoNt_e"
      },
      "source": [
        "## Data Cleaning\n",
        "\n",
        "Menangani nilai yang hilang, outlier, dan mempersiapkan variabel."
      ]
    },
    {
      "cell_type": "markdown",
      "metadata": {},
      "source": [
        "<b>🧹 Menangani Nilai yang Hilang (Missing Values) <b>"
      ]
    },
    {
      "cell_type": "code",
      "execution_count": 5,
      "metadata": {
        "id": "dQvyUWaLs9rM"
      },
      "outputs": [
        {
          "name": "stdout",
          "output_type": "stream",
          "text": [
            "Jumlah nilai yang hilang pada setiap kolom:\n",
            "price               0\n",
            "area                0\n",
            "bedrooms            0\n",
            "bathrooms           0\n",
            "stories             0\n",
            "mainroad            0\n",
            "guestroom           0\n",
            "basement            0\n",
            "hotwaterheating     0\n",
            "airconditioning     0\n",
            "parking             0\n",
            "prefarea            0\n",
            "furnishingstatus    0\n",
            "dtype: int64\n"
          ]
        }
      ],
      "source": [
        "print(\"Jumlah nilai yang hilang pada setiap kolom:\")\n",
        "print(df.isnull().sum())"
      ]
    },
    {
      "cell_type": "markdown",
      "metadata": {},
      "source": [
        "<b>📊 Deteksi Outlier (menggunakan IQR method)<b>"
      ]
    },
    {
      "cell_type": "code",
      "execution_count": 6,
      "metadata": {
        "id": "kQH0nqB0Sd6e"
      },
      "outputs": [
        {
          "name": "stdout",
          "output_type": "stream",
          "text": [
            "Outlier pada kolom 'price': 15 data\n",
            "Outlier pada kolom 'area': 12 data\n",
            "Outlier pada kolom 'bedrooms': 12 data\n",
            "Outlier pada kolom 'bathrooms': 1 data\n",
            "Outlier pada kolom 'stories': 41 data\n",
            "Outlier pada kolom 'parking': 12 data\n"
          ]
        }
      ],
      "source": [
        "numerical_cols = ['price', 'area', 'bedrooms', 'bathrooms', 'stories', 'parking']\n",
        "for col in numerical_cols:\n",
        "    Q1 = df[col].quantile(0.25)\n",
        "    Q3 = df[col].quantile(0.75)\n",
        "    IQR = Q3 - Q1\n",
        "    lower = Q1 - 1.5 * IQR\n",
        "    upper = Q3 + 1.5 * IQR\n",
        "    outliers = df[(df[col] < lower) | (df[col] > upper)]\n",
        "    print(f\"Outlier pada kolom '{col}': {len(outliers)} data\")"
      ]
    },
    {
      "cell_type": "markdown",
      "metadata": {},
      "source": [
        "<B>🔠 Encoding Kategorikal<b>"
      ]
    },
    {
      "cell_type": "code",
      "execution_count": 7,
      "metadata": {},
      "outputs": [],
      "source": [
        "categorical_cols = ['mainroad', 'guestroom', 'basement', 'hotwaterheating',\n",
        "                    'airconditioning', 'prefarea', 'furnishingstatus']\n",
        "label_encoders = {}\n",
        "\n",
        "for col in categorical_cols:\n",
        "    le = LabelEncoder()\n",
        "    df[col] = le.fit_transform(df[col])\n",
        "    label_encoders[col] = le"
      ]
    },
    {
      "cell_type": "markdown",
      "metadata": {},
      "source": [
        "<b>📏 Scaling Data Numerik<b>"
      ]
    },
    {
      "cell_type": "code",
      "execution_count": 8,
      "metadata": {},
      "outputs": [],
      "source": [
        "scaler = StandardScaler()\n",
        "df[numerical_cols] = scaler.fit_transform(df[numerical_cols])"
      ]
    },
    {
      "cell_type": "markdown",
      "metadata": {},
      "source": [
        "<b>✅ Final Check<b>"
      ]
    },
    {
      "cell_type": "code",
      "execution_count": 9,
      "metadata": {},
      "outputs": [
        {
          "name": "stdout",
          "output_type": "stream",
          "text": [
            "\n",
            "Data setelah cleaning:\n"
          ]
        },
        {
          "data": {
            "application/vnd.microsoft.datawrangler.viewer.v0+json": {
              "columns": [
                {
                  "name": "index",
                  "rawType": "int64",
                  "type": "integer"
                },
                {
                  "name": "price",
                  "rawType": "float64",
                  "type": "float"
                },
                {
                  "name": "area",
                  "rawType": "float64",
                  "type": "float"
                },
                {
                  "name": "bedrooms",
                  "rawType": "float64",
                  "type": "float"
                },
                {
                  "name": "bathrooms",
                  "rawType": "float64",
                  "type": "float"
                },
                {
                  "name": "stories",
                  "rawType": "float64",
                  "type": "float"
                },
                {
                  "name": "mainroad",
                  "rawType": "int32",
                  "type": "integer"
                },
                {
                  "name": "guestroom",
                  "rawType": "int32",
                  "type": "integer"
                },
                {
                  "name": "basement",
                  "rawType": "int32",
                  "type": "integer"
                },
                {
                  "name": "hotwaterheating",
                  "rawType": "int32",
                  "type": "integer"
                },
                {
                  "name": "airconditioning",
                  "rawType": "int32",
                  "type": "integer"
                },
                {
                  "name": "parking",
                  "rawType": "float64",
                  "type": "float"
                },
                {
                  "name": "prefarea",
                  "rawType": "int32",
                  "type": "integer"
                },
                {
                  "name": "furnishingstatus",
                  "rawType": "int32",
                  "type": "integer"
                }
              ],
              "ref": "338fbf77-402c-498a-a822-f9a18c71e323",
              "rows": [
                [
                  "0",
                  "4.566365125868969",
                  "1.0467262882352133",
                  "1.4034193573588298",
                  "1.4218117367065486",
                  "1.3782169202337835",
                  "1",
                  "0",
                  "0",
                  "0",
                  "1",
                  "1.5176924895404067",
                  "1",
                  "0"
                ],
                [
                  "1",
                  "4.004484046345774",
                  "1.7570095257333957",
                  "1.4034193573588298",
                  "5.405808633904846",
                  "2.53202371213457",
                  "1",
                  "0",
                  "0",
                  "0",
                  "1",
                  "2.679409353022881",
                  "0",
                  "0"
                ],
                [
                  "2",
                  "4.004484046345774",
                  "2.218232407225722",
                  "0.047278311684073836",
                  "1.4218117367065486",
                  "0.22441012833299692",
                  "1",
                  "0",
                  "1",
                  "0",
                  "0",
                  "1.5176924895404067",
                  "1",
                  "1"
                ],
                [
                  "3",
                  "3.985754677028334",
                  "1.0836241187545992",
                  "1.4034193573588298",
                  "1.4218117367065486",
                  "0.22441012833299692",
                  "1",
                  "0",
                  "1",
                  "0",
                  "1",
                  "2.679409353022881",
                  "1",
                  "0"
                ],
                [
                  "4",
                  "3.554979182727218",
                  "1.0467262882352133",
                  "1.4034193573588298",
                  "-0.5701867118926005",
                  "0.22441012833299692",
                  "1",
                  "1",
                  "1",
                  "0",
                  "1",
                  "1.5176924895404067",
                  "0",
                  "0"
                ]
              ],
              "shape": {
                "columns": 13,
                "rows": 5
              }
            },
            "text/html": [
              "<div>\n",
              "<style scoped>\n",
              "    .dataframe tbody tr th:only-of-type {\n",
              "        vertical-align: middle;\n",
              "    }\n",
              "\n",
              "    .dataframe tbody tr th {\n",
              "        vertical-align: top;\n",
              "    }\n",
              "\n",
              "    .dataframe thead th {\n",
              "        text-align: right;\n",
              "    }\n",
              "</style>\n",
              "<table border=\"1\" class=\"dataframe\">\n",
              "  <thead>\n",
              "    <tr style=\"text-align: right;\">\n",
              "      <th></th>\n",
              "      <th>price</th>\n",
              "      <th>area</th>\n",
              "      <th>bedrooms</th>\n",
              "      <th>bathrooms</th>\n",
              "      <th>stories</th>\n",
              "      <th>mainroad</th>\n",
              "      <th>guestroom</th>\n",
              "      <th>basement</th>\n",
              "      <th>hotwaterheating</th>\n",
              "      <th>airconditioning</th>\n",
              "      <th>parking</th>\n",
              "      <th>prefarea</th>\n",
              "      <th>furnishingstatus</th>\n",
              "    </tr>\n",
              "  </thead>\n",
              "  <tbody>\n",
              "    <tr>\n",
              "      <th>0</th>\n",
              "      <td>4.566365</td>\n",
              "      <td>1.046726</td>\n",
              "      <td>1.403419</td>\n",
              "      <td>1.421812</td>\n",
              "      <td>1.378217</td>\n",
              "      <td>1</td>\n",
              "      <td>0</td>\n",
              "      <td>0</td>\n",
              "      <td>0</td>\n",
              "      <td>1</td>\n",
              "      <td>1.517692</td>\n",
              "      <td>1</td>\n",
              "      <td>0</td>\n",
              "    </tr>\n",
              "    <tr>\n",
              "      <th>1</th>\n",
              "      <td>4.004484</td>\n",
              "      <td>1.757010</td>\n",
              "      <td>1.403419</td>\n",
              "      <td>5.405809</td>\n",
              "      <td>2.532024</td>\n",
              "      <td>1</td>\n",
              "      <td>0</td>\n",
              "      <td>0</td>\n",
              "      <td>0</td>\n",
              "      <td>1</td>\n",
              "      <td>2.679409</td>\n",
              "      <td>0</td>\n",
              "      <td>0</td>\n",
              "    </tr>\n",
              "    <tr>\n",
              "      <th>2</th>\n",
              "      <td>4.004484</td>\n",
              "      <td>2.218232</td>\n",
              "      <td>0.047278</td>\n",
              "      <td>1.421812</td>\n",
              "      <td>0.224410</td>\n",
              "      <td>1</td>\n",
              "      <td>0</td>\n",
              "      <td>1</td>\n",
              "      <td>0</td>\n",
              "      <td>0</td>\n",
              "      <td>1.517692</td>\n",
              "      <td>1</td>\n",
              "      <td>1</td>\n",
              "    </tr>\n",
              "    <tr>\n",
              "      <th>3</th>\n",
              "      <td>3.985755</td>\n",
              "      <td>1.083624</td>\n",
              "      <td>1.403419</td>\n",
              "      <td>1.421812</td>\n",
              "      <td>0.224410</td>\n",
              "      <td>1</td>\n",
              "      <td>0</td>\n",
              "      <td>1</td>\n",
              "      <td>0</td>\n",
              "      <td>1</td>\n",
              "      <td>2.679409</td>\n",
              "      <td>1</td>\n",
              "      <td>0</td>\n",
              "    </tr>\n",
              "    <tr>\n",
              "      <th>4</th>\n",
              "      <td>3.554979</td>\n",
              "      <td>1.046726</td>\n",
              "      <td>1.403419</td>\n",
              "      <td>-0.570187</td>\n",
              "      <td>0.224410</td>\n",
              "      <td>1</td>\n",
              "      <td>1</td>\n",
              "      <td>1</td>\n",
              "      <td>0</td>\n",
              "      <td>1</td>\n",
              "      <td>1.517692</td>\n",
              "      <td>0</td>\n",
              "      <td>0</td>\n",
              "    </tr>\n",
              "  </tbody>\n",
              "</table>\n",
              "</div>"
            ],
            "text/plain": [
              "      price      area  bedrooms  bathrooms   stories  mainroad  guestroom  \\\n",
              "0  4.566365  1.046726  1.403419   1.421812  1.378217         1          0   \n",
              "1  4.004484  1.757010  1.403419   5.405809  2.532024         1          0   \n",
              "2  4.004484  2.218232  0.047278   1.421812  0.224410         1          0   \n",
              "3  3.985755  1.083624  1.403419   1.421812  0.224410         1          0   \n",
              "4  3.554979  1.046726  1.403419  -0.570187  0.224410         1          1   \n",
              "\n",
              "   basement  hotwaterheating  airconditioning   parking  prefarea  \\\n",
              "0         0                0                1  1.517692         1   \n",
              "1         0                0                1  2.679409         0   \n",
              "2         1                0                0  1.517692         1   \n",
              "3         1                0                1  2.679409         1   \n",
              "4         1                0                1  1.517692         0   \n",
              "\n",
              "   furnishingstatus  \n",
              "0                 0  \n",
              "1                 0  \n",
              "2                 1  \n",
              "3                 0  \n",
              "4                 0  "
            ]
          },
          "metadata": {},
          "output_type": "display_data"
        },
        {
          "name": "stdout",
          "output_type": "stream",
          "text": [
            "              price          area      bedrooms     bathrooms       stories  \\\n",
            "count  5.450000e+02  5.450000e+02  5.450000e+02  5.450000e+02  5.450000e+02   \n",
            "mean   2.085997e-16 -1.564498e-16 -1.825247e-16 -2.607496e-17 -1.303748e-16   \n",
            "std    1.000919e+00  1.000919e+00  1.000919e+00  1.000919e+00  1.000919e+00   \n",
            "min   -1.614327e+00 -1.614530e+00 -2.665004e+00 -5.701867e-01 -9.293967e-01   \n",
            "25%   -7.153170e-01 -7.151451e-01 -1.308863e+00 -5.701867e-01 -9.293967e-01   \n",
            "50%   -2.283534e-01 -2.539222e-01  4.727831e-02 -5.701867e-01  2.244101e-01   \n",
            "75%    5.208214e-01  5.578300e-01  4.727831e-02  1.421812e+00  2.244101e-01   \n",
            "max    4.566365e+00  5.096263e+00  4.115701e+00  5.405809e+00  2.532024e+00   \n",
            "\n",
            "         mainroad   guestroom    basement  hotwaterheating  airconditioning  \\\n",
            "count  545.000000  545.000000  545.000000       545.000000       545.000000   \n",
            "mean     0.858716    0.177982    0.350459         0.045872         0.315596   \n",
            "std      0.348635    0.382849    0.477552         0.209399         0.465180   \n",
            "min      0.000000    0.000000    0.000000         0.000000         0.000000   \n",
            "25%      1.000000    0.000000    0.000000         0.000000         0.000000   \n",
            "50%      1.000000    0.000000    0.000000         0.000000         0.000000   \n",
            "75%      1.000000    0.000000    1.000000         0.000000         1.000000   \n",
            "max      1.000000    1.000000    1.000000         1.000000         1.000000   \n",
            "\n",
            "          parking    prefarea  furnishingstatus  \n",
            "count  545.000000  545.000000        545.000000  \n",
            "mean     0.000000    0.234862          1.069725  \n",
            "std      1.000919    0.424302          0.761373  \n",
            "min     -0.805741    0.000000          0.000000  \n",
            "25%     -0.805741    0.000000          0.000000  \n",
            "50%     -0.805741    0.000000          1.000000  \n",
            "75%      0.355976    0.000000          2.000000  \n",
            "max      2.679409    1.000000          2.000000  \n"
          ]
        }
      ],
      "source": [
        "print(\"\\nData setelah cleaning:\")\n",
        "display(df.head())\n",
        "print(df.describe())"
      ]
    },
    {
      "cell_type": "markdown",
      "metadata": {
        "id": "qJvTWN5FNufH"
      },
      "source": [
        "## Exploratory Data Analysis\n",
        "\n",
        "Memvisualisasikan hubungan, distribusi data, dan lain sebagainya."
      ]
    },
    {
      "cell_type": "code",
      "execution_count": null,
      "metadata": {
        "id": "aVPYTG8GRJqe"
      },
      "outputs": [],
      "source": []
    },
    {
      "cell_type": "code",
      "execution_count": null,
      "metadata": {
        "id": "LqQ25_ORSdlE"
      },
      "outputs": [],
      "source": []
    },
    {
      "cell_type": "markdown",
      "metadata": {
        "id": "1ZeZ8trQNvFB"
      },
      "source": [
        "## Data Preparation\n",
        "\n",
        "Memisahkan data training dan testing"
      ]
    },
    {
      "cell_type": "code",
      "execution_count": null,
      "metadata": {
        "id": "4tyT5mTONvwl"
      },
      "outputs": [],
      "source": []
    },
    {
      "cell_type": "code",
      "execution_count": null,
      "metadata": {
        "id": "Ivt_Csw1SdSi"
      },
      "outputs": [],
      "source": []
    },
    {
      "cell_type": "markdown",
      "metadata": {
        "id": "A6t4xQzHRSH-"
      },
      "source": [
        "## Model Building\n",
        "\n",
        "Membuat regresi linier pada. Silakan mengeksplorasi dataset kamu terlebih dahulu dengan berbagai kombinasi prediktor."
      ]
    },
    {
      "cell_type": "code",
      "execution_count": null,
      "metadata": {
        "id": "nlh_RrkjR7Nw"
      },
      "outputs": [],
      "source": []
    },
    {
      "cell_type": "code",
      "execution_count": null,
      "metadata": {
        "id": "52AewiX1Sc7F"
      },
      "outputs": [],
      "source": []
    },
    {
      "cell_type": "markdown",
      "metadata": {
        "id": "meXWqM10R7ko"
      },
      "source": [
        "## Evaluation\n",
        "\n",
        "Melakukan evaluasi model yang telah dibuat menggunakan plot dan metrik evaluasi, serta tambahkan interpretasi hasilnya."
      ]
    },
    {
      "cell_type": "code",
      "execution_count": null,
      "metadata": {
        "id": "RG6_o2MuSUdS"
      },
      "outputs": [],
      "source": []
    },
    {
      "cell_type": "code",
      "execution_count": null,
      "metadata": {
        "id": "NeNQrXtgScmr"
      },
      "outputs": [],
      "source": []
    }
  ],
  "metadata": {
    "colab": {
      "provenance": [],
      "toc_visible": true
    },
    "kernelspec": {
      "display_name": "Python 3",
      "name": "python3"
    },
    "language_info": {
      "codemirror_mode": {
        "name": "ipython",
        "version": 3
      },
      "file_extension": ".py",
      "mimetype": "text/x-python",
      "name": "python",
      "nbconvert_exporter": "python",
      "pygments_lexer": "ipython3",
      "version": "3.11.0"
    }
  },
  "nbformat": 4,
  "nbformat_minor": 0
}
