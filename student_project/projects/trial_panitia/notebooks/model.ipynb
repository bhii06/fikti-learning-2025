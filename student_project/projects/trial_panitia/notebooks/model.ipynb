{
  "nbformat": 4,
  "nbformat_minor": 0,
  "metadata": {
    "colab": {
      "provenance": [],
      "toc_visible": true
    },
    "kernelspec": {
      "name": "python3",
      "display_name": "Python 3"
    },
    "language_info": {
      "name": "python"
    }
  },
  "cells": [
    {
      "cell_type": "markdown",
      "source": [
        "# Project Guideline\n",
        "\n",
        "Hi teman-teman! Silakan menggunakan template notebook ini untuk mengerjakan projectmu.\n",
        "\n",
        "<br>\n",
        "\n",
        "**Informasi tambahan,**\n",
        "1. Copy notebook ini untuk mulai mengerjakan Projectmu.\n",
        "2. Kamu bebas untuk menambahkan cell pada notebook."
      ],
      "metadata": {
        "id": "RbXOhqmNM4J9"
      }
    },
    {
      "cell_type": "markdown",
      "source": [
        "## Data Understanding\n",
        "\n",
        "Menjelajahi struktur dan karakteristik dari sebuah data."
      ],
      "metadata": {
        "id": "yIwc7uVMNsgo"
      }
    },
    {
      "cell_type": "markdown",
      "source": [
        "Menulis kode untuk mengkoneksikan notebook ke Google Drive"
      ],
      "metadata": {
        "id": "O08pIuSQTWLl"
      }
    },
    {
      "cell_type": "code",
      "source": [],
      "metadata": {
        "id": "aAct0PnWM3zG"
      },
      "execution_count": null,
      "outputs": []
    },
    {
      "cell_type": "markdown",
      "source": [
        "Memasukkan library yang akan kamu gunakan"
      ],
      "metadata": {
        "id": "yeUKz9g2TW3r"
      }
    },
    {
      "cell_type": "code",
      "source": [],
      "metadata": {
        "id": "_6SC20s9SeK7"
      },
      "execution_count": null,
      "outputs": []
    },
    {
      "cell_type": "markdown",
      "source": [
        "Mengambil file .csv dari Google Drive kamu."
      ],
      "metadata": {
        "id": "X2Dqv6AQTZhB"
      }
    },
    {
      "cell_type": "code",
      "source": [],
      "metadata": {
        "id": "MN3LxBEQTaBg"
      },
      "execution_count": null,
      "outputs": []
    },
    {
      "cell_type": "code",
      "source": [],
      "metadata": {
        "id": "HK3CcQuYTaOW"
      },
      "execution_count": null,
      "outputs": []
    },
    {
      "cell_type": "markdown",
      "source": [
        "## Data Cleaning\n",
        "\n",
        "Menangani nilai yang hilang, outlier, dan mempersiapkan variabel."
      ],
      "metadata": {
        "id": "WMezuFqoNt_e"
      }
    },
    {
      "cell_type": "code",
      "execution_count": null,
      "metadata": {
        "id": "dQvyUWaLs9rM"
      },
      "outputs": [],
      "source": []
    },
    {
      "cell_type": "code",
      "source": [],
      "metadata": {
        "id": "kQH0nqB0Sd6e"
      },
      "execution_count": null,
      "outputs": []
    },
    {
      "cell_type": "markdown",
      "source": [
        "## Exploratory Data Analysis\n",
        "\n",
        "Memvisualisasikan hubungan, distribusi data, dan lain sebagainya."
      ],
      "metadata": {
        "id": "qJvTWN5FNufH"
      }
    },
    {
      "cell_type": "code",
      "source": [],
      "metadata": {
        "id": "aVPYTG8GRJqe"
      },
      "execution_count": null,
      "outputs": []
    },
    {
      "cell_type": "code",
      "source": [],
      "metadata": {
        "id": "LqQ25_ORSdlE"
      },
      "execution_count": null,
      "outputs": []
    },
    {
      "cell_type": "markdown",
      "source": [
        "## Data Preparation\n",
        "\n",
        "Memisahkan data training dan testing"
      ],
      "metadata": {
        "id": "1ZeZ8trQNvFB"
      }
    },
    {
      "cell_type": "code",
      "source": [],
      "metadata": {
        "id": "4tyT5mTONvwl"
      },
      "execution_count": null,
      "outputs": []
    },
    {
      "cell_type": "code",
      "source": [],
      "metadata": {
        "id": "Ivt_Csw1SdSi"
      },
      "execution_count": null,
      "outputs": []
    },
    {
      "cell_type": "markdown",
      "source": [
        "## Model Building\n",
        "\n",
        "Membuat regresi linier pada. Silakan mengeksplorasi dataset kamu terlebih dahulu dengan berbagai kombinasi prediktor."
      ],
      "metadata": {
        "id": "A6t4xQzHRSH-"
      }
    },
    {
      "cell_type": "code",
      "source": [],
      "metadata": {
        "id": "nlh_RrkjR7Nw"
      },
      "execution_count": null,
      "outputs": []
    },
    {
      "cell_type": "code",
      "source": [],
      "metadata": {
        "id": "52AewiX1Sc7F"
      },
      "execution_count": null,
      "outputs": []
    },
    {
      "cell_type": "markdown",
      "source": [
        "## Evaluation\n",
        "\n",
        "Melakukan evaluasi model yang telah dibuat menggunakan plot dan metrik evaluasi, serta tambahkan interpretasi hasilnya."
      ],
      "metadata": {
        "id": "meXWqM10R7ko"
      }
    },
    {
      "cell_type": "code",
      "source": [],
      "metadata": {
        "id": "RG6_o2MuSUdS"
      },
      "execution_count": null,
      "outputs": []
    },
    {
      "cell_type": "code",
      "source": [],
      "metadata": {
        "id": "NeNQrXtgScmr"
      },
      "execution_count": null,
      "outputs": []
    }
  ]
}